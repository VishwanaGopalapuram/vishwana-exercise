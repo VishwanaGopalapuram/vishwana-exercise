{
  "cells": [
    {
      "cell_type": "markdown",
      "metadata": {
        "id": "DymRJbxDBCnf"
      },
      "source": [
        "# **This first In-class-exercise cover a variety of fundamental concepts in Python and are designed to help individuals improve their coding skills and problem-solving abilities.**\n",
        "\n",
        "The submission is due on 01/31/2024 11:59 PM. This submission is worth 40 points in total.\n"
      ]
    },
    {
      "cell_type": "markdown",
      "source": [
        "(1) Write a Python program that  prompts the user to input the length and width of a rectangle, and then calculates and displays the area of the rectangle."
      ],
      "metadata": {
        "id": "FBKvD6O_TY6e"
      }
    },
    {
      "cell_type": "markdown",
      "metadata": {
        "id": "view-in-github"
      },
      "source": [
        "<a href=\"https://colab.research.google.com/github/unt-iialab/INFO5731_Spring2020/blob/master/In_class_exercise/In_class_exercise_01.ipynb\" target=\"_parent\"><img src=\"https://colab.research.google.com/assets/colab-badge.svg\" alt=\"Open In Colab\"/></a>"
      ]
    },
    {
      "cell_type": "code",
      "source": [
        "new_length = float(input(\"Enter the length of the rectangle: \"))\n",
        "new_width = float(input(\"Enter the width of the rectangle: \"))\n",
        "new_area = new_length * new_width\n",
        "print(f\"The area of the rectangle is: {new_area}\")\n"
      ],
      "metadata": {
        "id": "cikVKDXdTbzE",
        "colab": {
          "base_uri": "https://localhost:8080/"
        },
        "outputId": "11ca4722-9ffd-4635-a798-a1920c883cf9"
      },
      "execution_count": 1,
      "outputs": [
        {
          "output_type": "stream",
          "name": "stdout",
          "text": [
            "Enter the length of the rectangle: 4\n",
            "Enter the width of the rectangle: 5\n",
            "The area of the rectangle is: 20.0\n"
          ]
        }
      ]
    },
    {
      "cell_type": "markdown",
      "source": [
        "(2) Create a Python program that interactively takes two numerical inputs from the user and swaps their values without utilizing an extra variable."
      ],
      "metadata": {
        "id": "E9RqrlwdTfvl"
      }
    },
    {
      "cell_type": "code",
      "source": [
        "first_num = float(input(\"Enter the first number: \"))\n",
        "second_num = float(input(\"Enter the second number: \"))\n",
        "print(f\"Original values: first_num = {first_num}, second_num = {second_num}\")\n",
        "first_num = first_num + second_num\n",
        "second_num = first_num - second_num\n",
        "first_num = first_num - second_num\n",
        "print(f\"Swapped values: first_num = {first_num}, second_num = {second_num}\")\n"
      ],
      "metadata": {
        "id": "4XvRknixTh1g",
        "colab": {
          "base_uri": "https://localhost:8080/"
        },
        "outputId": "984b7e02-34ff-4fcb-80ce-4f33fa9dc07d"
      },
      "execution_count": 2,
      "outputs": [
        {
          "output_type": "stream",
          "name": "stdout",
          "text": [
            "Enter the first number: 5\n",
            "Enter the second number: 6\n",
            "Original values: first_num = 5.0, second_num = 6.0\n",
            "Swapped values: first_num = 6.0, second_num = 5.0\n"
          ]
        }
      ]
    },
    {
      "cell_type": "markdown",
      "metadata": {
        "id": "03jb4GZsBkBS"
      },
      "source": [
        "(3) Write a Python script to determine and print the length of a user-input string."
      ]
    },
    {
      "cell_type": "code",
      "execution_count": 3,
      "metadata": {
        "id": "YaGLbSHHB8Ej",
        "colab": {
          "base_uri": "https://localhost:8080/"
        },
        "outputId": "32d2f64d-067a-456d-d3ce-40abd155ce28"
      },
      "outputs": [
        {
          "output_type": "stream",
          "name": "stdout",
          "text": [
            "Enter a string: my name is vishwana\n",
            "The length of the string is: 19\n"
          ]
        }
      ],
      "source": [
        "user_input_string = input(\"Enter a string: \")\n",
        "string_length_result = len(user_input_string)\n",
        "print(f\"The length of the string is: {string_length_result}\")\n"
      ]
    },
    {
      "cell_type": "markdown",
      "metadata": {
        "id": "jJDe71iLB616"
      },
      "source": [
        "(4) Construct a Python program that counts and displays the occurrences of each character in a given string.\n",
        "\n",
        "Sample String: 'openai.ai',\n",
        "\n",
        "Expected Result: {'a': 2, 'i': 2, '.': 1, 'o': 1, 'p': 1, 'e': 1, 'n': 1}"
      ]
    },
    {
      "cell_type": "code",
      "execution_count": 4,
      "metadata": {
        "id": "MtKskTzbCLaU",
        "colab": {
          "base_uri": "https://localhost:8080/"
        },
        "outputId": "3027d0ac-b3bb-4a2c-811b-8cc941fc25aa"
      },
      "outputs": [
        {
          "output_type": "stream",
          "name": "stdout",
          "text": [
            "Occurrences of each character:\n",
            "Occurrences of each character:\n",
            "Occurrences of each character:\n",
            "Occurrences of each character:\n",
            "Occurrences of each character:\n",
            "Occurrences of each character:\n",
            "Occurrences of each character:\n",
            "{'o': 1, 'p': 1, 'e': 1, 'n': 1, 'a': 2, 'i': 2, '.': 1}\n"
          ]
        }
      ],
      "source": [
        "given_string = 'openai.ai'\n",
        "char_occurrences = {}\n",
        "for char in given_string:\n",
        "    if char in char_occurrences:\n",
        "        char_occurrences[char] += 1\n",
        "    else:\n",
        "        char_occurrences[char] = 1\n",
        "        print(\"Occurrences of each character:\")\n",
        "print(char_occurrences)\n",
        "\n"
      ]
    },
    {
      "cell_type": "markdown",
      "metadata": {
        "id": "55W9AMdXCSpV"
      },
      "source": [
        "(5) Design a Python code to calculate the sum of all elements in a user-provided list."
      ]
    },
    {
      "cell_type": "code",
      "execution_count": 5,
      "metadata": {
        "id": "I57NXsauCec2",
        "colab": {
          "base_uri": "https://localhost:8080/"
        },
        "outputId": "9be9d8a0-9333-4287-e3d2-ca9ea1ba6edc"
      },
      "outputs": [
        {
          "output_type": "stream",
          "name": "stdout",
          "text": [
            "Enter a list of numbers separated by spaces: 4 8 7 4 8\n",
            "The sum of all elements in the list is: 31.0\n"
          ]
        }
      ],
      "source": [
        "user_numbers_input = input(\"Enter a list of numbers separated by spaces: \")\n",
        "input_numbers_list = [float(num) for num in user_numbers_input.split()]\n",
        "total_sum = sum(input_numbers_list)\n",
        "print(f\"The sum of all elements in the list is: {total_sum}\")\n",
        "\n"
      ]
    },
    {
      "cell_type": "markdown",
      "metadata": {
        "id": "4ulBZ6yhCi9F"
      },
      "source": [
        "(6) Write a Python program that modifies a given string by replacing all occurrences of its first character with '$', excluding the first character itself.\n",
        "\n",
        "\n",
        "Sample String : 'restart‘,\n",
        "\n",
        "Expected Result : 'resta\\$t'"
      ]
    },
    {
      "cell_type": "code",
      "execution_count": 6,
      "metadata": {
        "id": "Fj0XhwbBCw2o",
        "colab": {
          "base_uri": "https://localhost:8080/"
        },
        "outputId": "f3789312-4f2e-49aa-ca9b-1609636a83d9"
      },
      "outputs": [
        {
          "output_type": "stream",
          "name": "stdout",
          "text": [
            "Modified Text: resta$t\n"
          ]
        }
      ],
      "source": [
        "original_text = 'restart'\n",
        "first_character = original_text[0]\n",
        "modified_text = first_character + original_text[1:].replace(first_character, '$')\n",
        "print(\"Modified Text:\", modified_text)\n"
      ]
    },
    {
      "cell_type": "markdown",
      "source": [
        "(7) Write a Python program using a while loop to compute the factorial of a user-supplied number."
      ],
      "metadata": {
        "id": "qVXA3q7ET5JI"
      }
    },
    {
      "cell_type": "code",
      "source": [
        "new_number = int(input(\"Enter a number to calculate its factorial: \"))\n",
        "result_factorial = 1\n",
        "current = 1\n",
        "while current <= new_number:\n",
        "    result_factorial *= current\n",
        "    current += 1\n",
        "print(f\"The factorial of {new_number} is: {result_factorial}\")"
      ],
      "metadata": {
        "id": "Lbt7R6UkT7BA",
        "colab": {
          "base_uri": "https://localhost:8080/"
        },
        "outputId": "a584185d-0e53-4118-ce09-1cfca1671f17"
      },
      "execution_count": 7,
      "outputs": [
        {
          "output_type": "stream",
          "name": "stdout",
          "text": [
            "Enter a number to calculate its factorial: 6\n",
            "The factorial of 6 is: 720\n"
          ]
        }
      ]
    },
    {
      "cell_type": "markdown",
      "source": [
        "(8) Create a program that accepts a list of numbers as input and outputs a new list containing only the even numbers."
      ],
      "metadata": {
        "id": "6YfbzXMNT--R"
      }
    },
    {
      "cell_type": "code",
      "source": [
        "user_numbers_input = input(\"Enter a list of numbers separated by spaces: \")\n",
        "input_numbers_list = [int(num) for num in user_numbers_input.split()]\n",
        "even_numbers_result = [num for num in input_numbers_list if num % 2 == 0]\n",
        "print(\"Original List:\", input_numbers_list)\n",
        "print(\"List with Even Numbers:\", even_numbers_result)"
      ],
      "metadata": {
        "id": "54q7wMQPUAKu",
        "colab": {
          "base_uri": "https://localhost:8080/"
        },
        "outputId": "ce6a52cc-db0d-43c6-8ed7-26eb5a1a52b0"
      },
      "execution_count": 8,
      "outputs": [
        {
          "output_type": "stream",
          "name": "stdout",
          "text": [
            "Enter a list of numbers separated by spaces: 3 6 9 3 5\n",
            "Original List: [3, 6, 9, 3, 5]\n",
            "List with Even Numbers: [6]\n"
          ]
        }
      ]
    },
    {
      "cell_type": "code",
      "source": [],
      "metadata": {
        "id": "C40rOrwS_T7i"
      },
      "execution_count": null,
      "outputs": []
    },
    {
      "cell_type": "markdown",
      "metadata": {
        "id": "_bIP7s1MCzue"
      },
      "source": [
        "\n",
        "(9) Design a Python function to check if a number is prime.\n"
      ]
    },
    {
      "cell_type": "code",
      "execution_count": 9,
      "metadata": {
        "id": "w79QilHXD3Mg",
        "colab": {
          "base_uri": "https://localhost:8080/"
        },
        "outputId": "1c74cde3-5c34-4308-b6a2-2adcab46dca2"
      },
      "outputs": [
        {
          "output_type": "stream",
          "name": "stdout",
          "text": [
            "Enter a number to check if it's prime: 6\n",
            "6 is not a prime number.\n"
          ]
        }
      ],
      "source": [
        "def is_prime(new_number):\n",
        "    if new_number <= 1:\n",
        "        return False\n",
        "    elif new_number == 2:\n",
        "        return True\n",
        "    elif new_number % 2 == 0:\n",
        "        return False\n",
        "    else:\n",
        "\n",
        "        for divisor in range(3, int(new_number**0.5) + 1, 2):\n",
        "            if new_number % divisor == 0:\n",
        "                return False\n",
        "        return True\n",
        "\n",
        "\n",
        "user_input_number = int(input(\"Enter a number to check if it's prime: \"))\n",
        "result_is_prime = is_prime(user_input_number)\n",
        "\n",
        "if result_is_prime:\n",
        "    print(f\"{user_input_number} is a prime number.\")\n",
        "else:\n",
        "    print(f\"{user_input_number} is not a prime number.\")\n"
      ]
    },
    {
      "cell_type": "markdown",
      "metadata": {
        "id": "xCa2bK9aD4Q3"
      },
      "source": [
        "(10) Write a Python program to concatenate following dictionaries to create a new one.\n",
        "\n",
        "Sample Dictionary : dic1={1:10, 2:20}, dic2={3:30, 4:40}, dic3={5:50,6:60},\n",
        "\n",
        "Expected Result : {1: 10, 2: 20, 3: 30, 4: 40, 5: 50, 6: 60}\n"
      ]
    },
    {
      "cell_type": "code",
      "execution_count": 10,
      "metadata": {
        "id": "_z4aLqAbEET1",
        "colab": {
          "base_uri": "https://localhost:8080/"
        },
        "outputId": "8ee91b83-1c1d-4429-e614-c7f431746057"
      },
      "outputs": [
        {
          "output_type": "stream",
          "name": "stdout",
          "text": [
            "Concatenated Dictionary: {1: 10, 2: 20, 3: 30, 4: 40, 5: 50, 6: 60}\n"
          ]
        }
      ],
      "source": [
        "first_dict = {1: 10, 2: 20}\n",
        "second_dict = {3: 30, 4: 40}\n",
        "third_dict = {5: 50, 6: 60}\n",
        "\n",
        "\n",
        "result_dict = {**first_dict, **second_dict, **third_dict}\n",
        "\n",
        "\n",
        "print(\"Concatenated Dictionary:\", result_dict)\n",
        "\n"
      ]
    },
    {
      "cell_type": "markdown",
      "source": [
        "(11) Design a Python function that takes a tuple of integers as input and returns the largest and smallest elements."
      ],
      "metadata": {
        "id": "bkyZ2xSZUOst"
      }
    },
    {
      "cell_type": "code",
      "source": [
        "def find_max_min(input_tuple):\n",
        "    if not input_tuple or not all(isinstance(element, int) for element in input_tuple):\n",
        "        return None, None\n",
        "    max_element = min_element = input_tuple[0]\n",
        "\n",
        "    for element in input_tuple:\n",
        "        if element > max_element:\n",
        "            max_element = element\n",
        "        elif element < min_element:\n",
        "            min_element = element\n",
        "\n",
        "    return max_element, min_element\n",
        "\n",
        "\n",
        "user_input_numbers = input(\"Enter a tuple of integers separated by spaces (e.g., 1 2 3): \")\n",
        "try:\n",
        "    numbers_tuple = tuple(map(int, user_input_numbers.split()))\n",
        "    result_max, result_min = find_max_min(numbers_tuple)\n",
        "\n",
        "    if result_max is not None:\n",
        "        print(f\"Largest element: {result_max}\")\n",
        "        print(f\"Smallest element: {result_min}\")\n",
        "    else:\n",
        "        print(\"Invalid input. Please enter a valid tuple of integers.\")\n",
        "except ValueError:\n",
        "    print(\"Invalid input. Please enter a valid tuple of integers.\")"
      ],
      "metadata": {
        "id": "3FdLRBKOUQEd",
        "colab": {
          "base_uri": "https://localhost:8080/"
        },
        "outputId": "8e68c552-ab30-4237-fde0-8096fa4f4560"
      },
      "execution_count": 11,
      "outputs": [
        {
          "output_type": "stream",
          "name": "stdout",
          "text": [
            "Enter a tuple of integers separated by spaces (e.g., 1 2 3): 3 7 3 8 8\n",
            "Largest element: 8\n",
            "Smallest element: 3\n"
          ]
        }
      ]
    },
    {
      "cell_type": "markdown",
      "source": [
        "(12) Write a Python program that counts the frequency of each character in a given string and stores it in a dictionary."
      ],
      "metadata": {
        "id": "O0TVi3gKUTpp"
      }
    },
    {
      "cell_type": "code",
      "source": [
        "new_string = input(\"Enter a string: \")\n",
        "\n",
        "\n",
        "frequency_dict = {}\n",
        "\n",
        "\n",
        "for character in new_string:\n",
        "    if character in frequency_dict:\n",
        "        frequency_dict[character] += 1\n",
        "    else:\n",
        "        frequency_dict[character] = 1\n",
        "\n",
        "\n",
        "print(\"Character frequencies:\")\n",
        "for char, frequency in frequency_dict.items():\n",
        "    print(f\"{char}: {frequency}\")"
      ],
      "metadata": {
        "id": "lAtfSfZXUU-h",
        "colab": {
          "base_uri": "https://localhost:8080/"
        },
        "outputId": "b5cecd4f-4668-4208-eadc-e26c1808e4e5"
      },
      "execution_count": 12,
      "outputs": [
        {
          "output_type": "stream",
          "name": "stdout",
          "text": [
            "Enter a string: Did u have lunch?\n",
            "Character frequencies:\n",
            "D: 1\n",
            "i: 1\n",
            "d: 1\n",
            " : 3\n",
            "u: 2\n",
            "h: 2\n",
            "a: 1\n",
            "v: 1\n",
            "e: 1\n",
            "l: 1\n",
            "n: 1\n",
            "c: 1\n",
            "?: 1\n"
          ]
        }
      ]
    },
    {
      "cell_type": "markdown",
      "metadata": {
        "id": "0v48Vqa7FrQh"
      },
      "source": [
        "(13) Implement a Python script to identify duplicate elements in a provided array of integers. Return -1 if there are no duplicates."
      ]
    },
    {
      "cell_type": "code",
      "execution_count": 13,
      "metadata": {
        "id": "7WEmgq-DF2P1",
        "colab": {
          "base_uri": "https://localhost:8080/"
        },
        "outputId": "97d6650c-db53-4eaf-f310-a1619162c089"
      },
      "outputs": [
        {
          "output_type": "stream",
          "name": "stdout",
          "text": [
            "Enter an array of integers separated by spaces: 6 3 8 6 8\n",
            "Duplicate elements: [8, 6]\n"
          ]
        }
      ],
      "source": [
        "def find_duplicates(input_list):\n",
        "    seen_elements = set()\n",
        "    duplicate_elements = set()\n",
        "\n",
        "    for element in input_list:\n",
        "        if element in seen_elements:\n",
        "            duplicate_elements.add(element)\n",
        "        else:\n",
        "            seen_elements.add(element)\n",
        "\n",
        "    if not duplicate_elements:\n",
        "        return -1\n",
        "    else:\n",
        "        return list(duplicate_elements)\n",
        "\n",
        "\n",
        "user_input = input(\"Enter an array of integers separated by spaces: \")\n",
        "\n",
        "try:\n",
        "    input_list = list(map(int, user_input.split()))\n",
        "    result = find_duplicates(input_list)\n",
        "\n",
        "    if result == -1:\n",
        "        print(\"No duplicates found.\")\n",
        "    else:\n",
        "        print(\"Duplicate elements:\", result)\n",
        "except ValueError:\n",
        "    print(\"Invalid input. Please enter a valid array of integers.\")\n"
      ]
    },
    {
      "cell_type": "markdown",
      "metadata": {
        "id": "vD5PYLMuGga_"
      },
      "source": [
        "(14) Write a Python script to find the common elements between two lists."
      ]
    },
    {
      "cell_type": "code",
      "execution_count": 14,
      "metadata": {
        "id": "t0D5kdJUGjjw",
        "colab": {
          "base_uri": "https://localhost:8080/"
        },
        "outputId": "e4ae5fa9-02ba-454d-d853-a750b10c37d8"
      },
      "outputs": [
        {
          "output_type": "stream",
          "name": "stdout",
          "text": [
            "Enter the first list of elements separated by spaces: 6 0 1 0 5\n",
            "Enter the second list of elements separated by spaces: 8 6 1 5\n",
            "Common elements: [1, 5, 6]\n"
          ]
        }
      ],
      "source": [
        "def find_common_elements(input_list1, input_list2):\n",
        "    common_result = set(input_list1) & set(input_list2)\n",
        "    return list(common_result)\n",
        "\n",
        "\n",
        "user_input_list1 = input(\"Enter the first list of elements separated by spaces: \")\n",
        "user_input_list2 = input(\"Enter the second list of elements separated by spaces: \")\n",
        "\n",
        "try:\n",
        "    custom_list1 = list(map(int, user_input_list1.split()))\n",
        "    custom_list2 = list(map(int, user_input_list2.split()))\n",
        "\n",
        "    result_common = find_common_elements(custom_list1, custom_list2)\n",
        "\n",
        "    if not result_common:\n",
        "        print(\"No common elements found.\")\n",
        "    else:\n",
        "        print(\"Common elements:\", result_common)\n",
        "except ValueError:\n",
        "    print(\"Invalid input. Please enter valid lists of elements.\")\n",
        "\n"
      ]
    },
    {
      "cell_type": "markdown",
      "metadata": {
        "id": "uHkd-y5VhVWC"
      },
      "source": [
        "(15) Write a Python program to randomly divide the students in this class into six groups for term projects, each group should have at least 4 students but no more than 6 students (including 6).\n",
        "\n",
        "Here is the students list:\n",
        "\n",
        "student_list_spring_2024=[rb0846,\n",
        "ac1964,\n",
        "hc0612,\n",
        "md0912,\n",
        "ad1198,\n",
        "md0894,\n",
        "md0825,\n",
        "vg0598,\n",
        "vg0433,\n",
        "mh1068,\n",
        "yj0173,\n",
        "pk0553,\n",
        "tk0411,\n",
        "srk0204,\n",
        "sk2922,\n",
        "sk2936,\n",
        "mk1302,\n",
        "mk1317,\n",
        "tk0412,\n",
        "vk0656,\n",
        "sm2985,\n",
        "mm2372,\n",
        "un0045,\n",
        "an0892,\n",
        "sn0913,\n",
        "gp0252,\n",
        "ap1484,\n",
        "mr1765,\n",
        "sr1385,\n",
        "sr1335,\n",
        "hs0665,\n",
        "ms2060,\n",
        "gt0217,\n",
        "nt0385,\n",
        "tv0186,\n",
        "sv1394,\n",
        "sv1752,\n",
        "sv1555,\n",
        "sy0594\n",
        "]\n"
      ]
    },
    {
      "cell_type": "code",
      "execution_count": 15,
      "metadata": {
        "id": "3iGbmcOBhTwy",
        "colab": {
          "base_uri": "https://localhost:8080/"
        },
        "outputId": "65d96fc5-d8ad-4c17-98fa-b7183dc926be"
      },
      "outputs": [
        {
          "output_type": "stream",
          "name": "stdout",
          "text": [
            "Group 1: ['sy0594', 'pk0553', 'ms2060', 'sk2922', 'mr1765', 'md0894']\n",
            "Group 2: ['nt0385', 'mh1068', 'vg0433', 'tk0411']\n",
            "Group 3: ['un0045', 'ac1964', 'tv0186', 'vg0598']\n",
            "Group 4: ['ap1484', 'srk0204', 'yj0173', 'hs0665', 'tk0412']\n",
            "Group 5: ['sv1752', 'ad1198', 'vk0656', 'sk2936']\n",
            "Group 6: ['sr1385', 'mk1317', 'sm2985', 'hc0612', 'sn0913', 'mk1302']\n"
          ]
        }
      ],
      "source": [
        "import random\n",
        "\n",
        "def divide_students_into_groups(student_list, min_group_size=4, max_group_size=6):\n",
        "    # Shuffle the student list randomly\n",
        "    random.shuffle(student_list)\n",
        "\n",
        "    # Calculate the number of students per group\n",
        "    num_students = len(student_list)\n",
        "    num_groups = min(num_students // min_group_size, num_students // max_group_size)\n",
        "    students_per_group = num_students // num_groups\n",
        "\n",
        "    # Create empty groups\n",
        "    groups = [[] for _ in range(num_groups)]\n",
        "\n",
        "    # Distribute students into groups\n",
        "    for i in range(num_groups):\n",
        "        group_size = random.randint(min_group_size, max_group_size)\n",
        "        groups[i] = student_list[i * students_per_group : (i + 1) * students_per_group][:group_size]\n",
        "\n",
        "    return groups\n",
        "\n",
        "# Student list\n",
        "student_list_spring_2024 = ['rb0846', 'ac1964', 'hc0612', 'md0912', 'ad1198', 'md0894', 'md0825', 'vg0598', 'vg0433', 'mh1068',\n",
        "                             'yj0173', 'pk0553', 'tk0411', 'srk0204', 'sk2922', 'sk2936', 'mk1302', 'mk1317', 'tk0412', 'vk0656',\n",
        "                             'sm2985', 'mm2372', 'un0045', 'an0892', 'sn0913', 'gp0252', 'ap1484', 'mr1765', 'sr1385', 'sr1335',\n",
        "                             'hs0665', 'ms2060', 'gt0217', 'nt0385', 'tv0186', 'sv1394', 'sv1752', 'sv1555', 'sy0594']\n",
        "\n",
        "# Divide students into groups\n",
        "result_groups = divide_students_into_groups(student_list_spring_2024)\n",
        "\n",
        "# Print the groups\n",
        "for i, group in enumerate(result_groups, 1):\n",
        "    print(f\"Group {i}: {group}\")\n"
      ]
    },
    {
      "cell_type": "markdown",
      "metadata": {
        "id": "fmZ9vX20Qs3d"
      },
      "source": [
        "(16) Create a program that takes a positive integer 'n' as input and prints the count of even numbers from 1 to 'n'. Optimize the loop using the break statement."
      ]
    },
    {
      "cell_type": "code",
      "execution_count": 16,
      "metadata": {
        "id": "W8Jw6sWMQs3d",
        "colab": {
          "base_uri": "https://localhost:8080/"
        },
        "outputId": "ed775c29-ae0b-4fcc-f2ab-d12c8f4cc306"
      },
      "outputs": [
        {
          "output_type": "stream",
          "name": "stdout",
          "text": [
            "Enter a positive integer: 4\n",
            "Count of even numbers from 1 to 4: 2\n"
          ]
        }
      ],
      "source": [
        "def count_even_numbers(input_value):\n",
        "    if input_value <= 0:\n",
        "        print(\"Please enter a positive integer.\")\n",
        "        return\n",
        "\n",
        "    even_count = 0\n",
        "\n",
        "    for number in range(1, input_value + 1):\n",
        "        if number % 2 == 0:\n",
        "            even_count += 1\n",
        "        elif number > input_value:\n",
        "            break\n",
        "\n",
        "    print(f\"Count of even numbers from 1 to {input_value}: {even_count}\")\n",
        "\n",
        "\n",
        "try:\n",
        "    user_input = int(input(\"Enter a positive integer: \"))\n",
        "    count_even_numbers(user_input)\n",
        "except ValueError:\n",
        "    print(\"Please enter a valid integer.\")\n"
      ]
    },
    {
      "cell_type": "markdown",
      "metadata": {
        "id": "hvq4APMhQs3d"
      },
      "source": [
        "(17) Develop a Python function called 'count_vowels' that takes a string as input and returns the count of vowels (both lowercase and uppercase) present in the string, ignoring spaces and non-alphabetic characters."
      ]
    },
    {
      "cell_type": "code",
      "execution_count": 18,
      "metadata": {
        "id": "ZnoxhSglQs3d",
        "colab": {
          "base_uri": "https://localhost:8080/"
        },
        "outputId": "758499e1-fb40-4e80-a06d-55d19fee2322"
      },
      "outputs": [
        {
          "output_type": "stream",
          "name": "stdout",
          "text": [
            "Enter a string: That is a great movie\n",
            "The count of vowels in the text is: 8\n"
          ]
        }
      ],
      "source": [
        "def count_vowels(input_text):\n",
        "    vowel_characters = \"aeiouAEIOU\"\n",
        "    vowel_count = 0\n",
        "\n",
        "    for character in input_text:\n",
        "        if character.isalpha() and character in vowel_characters:\n",
        "            vowel_count += 1\n",
        "\n",
        "    return vowel_count\n",
        "\n",
        "# Example usage:\n",
        "user_input = input(\"Enter a string: \")\n",
        "result = count_vowels(user_input)\n",
        "print(f\"The count of vowels in the text is: {result}\")\n"
      ]
    },
    {
      "cell_type": "markdown",
      "source": [
        "(18) Create a custom exception named ValueTooSmallError in Python. Write a program that takes user input for an age, and if the entered age is less than 18, raise the ValueTooSmallError with an appropriate error message."
      ],
      "metadata": {
        "id": "55FWoSJPVVM6"
      }
    },
    {
      "cell_type": "code",
      "source": [
        "class AgeTooYoungError(Exception):\n",
        "    \"\"\"Custom exception for ages that are too young.\"\"\"\n",
        "\n",
        "    def __init__(self, message=\"Age is too young\"):\n",
        "        self.message = message\n",
        "        super().__init__(self.message)\n",
        "\n",
        "def check_eligibility(input_age):\n",
        "    if input_age < 18:\n",
        "        raise AgeTooYoungError(\"Age must be 18 or older.\")\n",
        "    else:\n",
        "        print(\"You are eligible.\")\n",
        "\n",
        "\n",
        "try:\n",
        "    user_input_age = int(input(\"Enter your age: \"))\n",
        "    check_eligibility(user_input_age)\n",
        "except ValueError:\n",
        "    print(\"Please enter a valid integer for age.\")\n",
        "except AgeTooYoungError as error:\n",
        "    print(error)\n"
      ],
      "metadata": {
        "id": "hwtr1wZmVX5A",
        "colab": {
          "base_uri": "https://localhost:8080/"
        },
        "outputId": "c9b90fbe-a6c9-401c-86ad-9c62f2c38293"
      },
      "execution_count": 21,
      "outputs": [
        {
          "output_type": "stream",
          "name": "stdout",
          "text": [
            "Enter your age: 29\n",
            "You are eligible.\n"
          ]
        }
      ]
    },
    {
      "cell_type": "markdown",
      "source": [
        "(19) Develop a script that reverses a given string without using built-in reverse functions."
      ],
      "metadata": {
        "id": "Q9ecagcaVazW"
      }
    },
    {
      "cell_type": "code",
      "source": [
        "def reverse_text(input_text):\n",
        "    reversed_text = \"\".join(reversed(input_text))\n",
        "    return reversed_text\n",
        "\n",
        "\n",
        "user_input = input(\"Enter a text: \")\n",
        "result = reverse_text(user_input)\n",
        "print(\"Reversed text:\", result)\n"
      ],
      "metadata": {
        "id": "gycgckoAVZjR",
        "colab": {
          "base_uri": "https://localhost:8080/"
        },
        "outputId": "32e3f49c-30d6-4a21-bf3c-36b5909dc9fe"
      },
      "execution_count": 20,
      "outputs": [
        {
          "output_type": "stream",
          "name": "stdout",
          "text": [
            "Enter a text: Hello everyone\n",
            "Reversed text: enoyreve olleH\n"
          ]
        }
      ]
    },
    {
      "cell_type": "markdown",
      "source": [
        "(20) Implement a Python script to generate a random password of a specified length."
      ],
      "metadata": {
        "id": "ZFG6RibifMLu"
      }
    },
    {
      "cell_type": "code",
      "source": [
        "import random\n",
        "import string\n",
        "\n",
        "def generate_secure_password(password_length):\n",
        "\n",
        "    password_characters = string.ascii_letters + string.digits + string.punctuation\n",
        "\n",
        "\n",
        "    generated_password = ''.join(random.choice(password_characters) for _ in range(password_length))\n",
        "\n",
        "    return generated_password\n",
        "\n",
        "def assess_password_strength(password):\n",
        "    has_uppercase = any(char.isupper() for char in password)\n",
        "    has_lowercase = any(char.islower() for char in password)\n",
        "    has_digit = any(char.isdigit() for char in password)\n",
        "    has_special = any(char in string.punctuation for char in password)\n",
        "\n",
        "    return has_uppercase and has_lowercase and has_digit and has_special\n",
        "\n",
        "\n",
        "desired_password_length = int(input(\"Enter the desired password length: \"))\n",
        "new_secure_password = generate_secure_password(desired_password_length)\n",
        "print(\"Generated secure password:\", new_secure_password)\n",
        "\n",
        "password_strength_result = assess_password_strength(new_secure_password)\n",
        "print(\"Password strength:\", \"Strong\" if password_strength_result else \"Weak\")"
      ],
      "metadata": {
        "id": "BFVrkEi9fNiD",
        "colab": {
          "base_uri": "https://localhost:8080/"
        },
        "outputId": "8d8b8938-0eab-4c4a-cc31-3c5fcbb8dae3"
      },
      "execution_count": 22,
      "outputs": [
        {
          "output_type": "stream",
          "name": "stdout",
          "text": [
            "Enter the desired password length: 10\n",
            "Generated secure password: K~xy[wS2U;\n",
            "Password strength: Strong\n"
          ]
        }
      ]
    },
    {
      "cell_type": "markdown",
      "source": [
        "# Try these questions:"
      ],
      "metadata": {
        "id": "6SmvS7nSfbj8"
      }
    },
    {
      "cell_type": "markdown",
      "source": [
        "(21) Define a base class called 'Vehicle' with attributes make and model. Create a derived class Car that inherits from Vehicle and has an additional attribute 'num_doors'. Demonstrate an example of creating an instance of the 'Car' class and accessing its attributes."
      ],
      "metadata": {
        "id": "cboAr5pEWUf5"
      }
    },
    {
      "cell_type": "code",
      "source": [
        "class Vehicle:\n",
        "    def __init__(self, brand, model):\n",
        "        self.brand = brand\n",
        "        self.model = model\n",
        "\n",
        "class Car(Vehicle):\n",
        "    def __init__(self, brand, model, door_count):\n",
        "\n",
        "        super().__init__(brand, model)\n",
        "        self.door_count = door_count\n",
        "\n",
        "\n",
        "brand_input = input(\"Enter the brand of the car: \")\n",
        "model_input = input(\"Enter the model of the car: \")\n",
        "doors_input = int(input(\"Enter the number of doors: \"))\n",
        "\n",
        "\n",
        "user_car_instance = Car(brand=brand_input, model=model_input, door_count=doors_input)\n",
        "\n",
        "\n",
        "print(\"Brand:\", user_car_instance.brand)\n",
        "print(\"Model:\", user_car_instance.model)\n",
        "print(\"Door Count:\", user_car_instance.door_count)\n"
      ],
      "metadata": {
        "id": "phs9gciMWWAW",
        "colab": {
          "base_uri": "https://localhost:8080/"
        },
        "outputId": "4b1d179f-bc6d-46b6-e3c8-2baeba03c7a3"
      },
      "execution_count": 24,
      "outputs": [
        {
          "output_type": "stream",
          "name": "stdout",
          "text": [
            "Enter the brand of the car: Ford\n",
            "Enter the model of the car: focus\n",
            "Enter the number of doors: 4\n",
            "Brand: Ford\n",
            "Model: focus\n",
            "Door Count: 4\n"
          ]
        }
      ]
    },
    {
      "cell_type": "markdown",
      "source": [
        "(22) Create a class called 'Shape' with a method calculate_area(). Implement two derived classes 'Circle' and 'Rectangle' that inherit from Shape and override the calculate_area() method. Demonstrate polymorphism by creating instances of both derived classes and calling the calculate_area() method."
      ],
      "metadata": {
        "id": "J8HHefNtePwd"
      }
    },
    {
      "cell_type": "code",
      "source": [
        "import math\n",
        "\n",
        "class GeometricShape:\n",
        "    def calculate_area(self):\n",
        "        pass\n",
        "\n",
        "class CircularShape(GeometricShape):\n",
        "    def __init__(self, radius_value):\n",
        "        self.radius = radius_value\n",
        "\n",
        "    def calculate_area(self):\n",
        "        return math.pi * self.radius ** 2\n",
        "\n",
        "class RectangularShape(GeometricShape):\n",
        "    def __init__(self, length_value, width_value):\n",
        "        self.length = length_value\n",
        "        self.width = width_value\n",
        "\n",
        "    def calculate_area(self):\n",
        "        return self.length * self.width\n",
        "\n",
        "\n",
        "radius_input = float(input(\"Enter the radius of the circular shape: \"))\n",
        "circle_instance = CircularShape(radius_value=radius_input)\n",
        "\n",
        "length_input = float(input(\"Enter the length of the rectangular shape: \"))\n",
        "width_input = float(input(\"Enter the width of the rectangular shape: \"))\n",
        "rectangle_instance = RectangularShape(length_value=length_input, width_value=width_input)\n",
        "\n",
        "\n",
        "print(\"Area of the Circular Shape:\", circle_instance.calculate_area())\n",
        "print(\"Area of the Rectangular Shape:\", rectangle_instance.calculate_area())"
      ],
      "metadata": {
        "id": "btnMmUZDeRhS",
        "colab": {
          "base_uri": "https://localhost:8080/"
        },
        "outputId": "f35bbb6f-6b7d-4546-d4cb-77cd39befa25"
      },
      "execution_count": 27,
      "outputs": [
        {
          "output_type": "stream",
          "name": "stdout",
          "text": [
            "Enter the radius of the circular shape: 23\n",
            "Enter the length of the rectangular shape: 25\n",
            "Enter the width of the rectangular shape: 5\n",
            "Area of the Circular Shape: 1661.9025137490005\n",
            "Area of the Rectangular Shape: 125.0\n"
          ]
        }
      ]
    },
    {
      "cell_type": "markdown",
      "source": [
        "(23) Write a Python program that prompts the user to enter two numbers and perform a division operation. Handle exceptions for both zero division and invalid input (non-numeric input). Display appropriate error messages for each type of exception and ensure the program does not crash due to these errors."
      ],
      "metadata": {
        "id": "z0oqEAlTeMUS"
      }
    },
    {
      "cell_type": "code",
      "source": [
        "def perform_custom_division():\n",
        "    try:\n",
        "\n",
        "        numerator = float(input(\"Enter the numerator: \"))\n",
        "        denominator = float(input(\"Enter the denominator: \"))\n",
        "\n",
        "\n",
        "        result = numerator / denominator\n",
        "\n",
        "\n",
        "        print(f\"Result of custom division: {result}\")\n",
        "\n",
        "    except ValueError:\n",
        "        print(\"Error: Please enter valid numeric values.\")\n",
        "    except ZeroDivisionError:\n",
        "        print(\"Error: Division by zero is not allowed.\")\n",
        "    except Exception as e:\n",
        "        print(f\"An unexpected error occurred: {e}\")\n",
        "\n",
        "\n",
        "perform_custom_division()"
      ],
      "metadata": {
        "id": "yjdc1zM1eMAs",
        "colab": {
          "base_uri": "https://localhost:8080/"
        },
        "outputId": "0c36bf1f-fcbf-4d97-a2c7-b20f9e4b04e0"
      },
      "execution_count": 28,
      "outputs": [
        {
          "output_type": "stream",
          "name": "stdout",
          "text": [
            "Enter the numerator: 32\n",
            "Enter the denominator: 56\n",
            "Result of custom division: 0.5714285714285714\n"
          ]
        }
      ]
    },
    {
      "cell_type": "markdown",
      "source": [
        "# Mandatory Question"
      ],
      "metadata": {
        "id": "sZOhks1dXWEe"
      }
    },
    {
      "cell_type": "markdown",
      "source": [
        "**Important:**\n",
        "Reflecting on the first three lectures and the exercises you've completed, please provide feedback on your learning experience. Share your thoughts on whether the material covered was clear, the exercises were helpful, and if you feel more confident in applying Python programming concepts. Additionally, mention any specific areas where you would like more clarification or topics you would like to explore further in future lectures. Your feedback is valuable in shaping the course for an effective learning journey."
      ],
      "metadata": {
        "id": "eqmHVEwaWhbV"
      }
    },
    {
      "cell_type": "markdown",
      "source": [
        "Write your response here."
      ],
      "metadata": {
        "id": "HlpXOT9wXQAd"
      }
    },
    {
      "cell_type": "code",
      "source": [
        "#I know the basics of Python and can write simple code. This class is going by so quickly.The class is going by so quickly, but the information is very clear. This class taught me new things that helped me with our in-class exercises.I would like to learn many new things and explore all future lectures without rushing .THANK YOU"
      ],
      "metadata": {
        "id": "Dq2aOZU7XIke"
      },
      "execution_count": null,
      "outputs": []
    }
  ],
  "metadata": {
    "colab": {
      "provenance": []
    },
    "kernelspec": {
      "display_name": "Python 3 (ipykernel)",
      "language": "python",
      "name": "python3"
    },
    "language_info": {
      "codemirror_mode": {
        "name": "ipython",
        "version": 3
      },
      "file_extension": ".py",
      "mimetype": "text/x-python",
      "name": "python",
      "nbconvert_exporter": "python",
      "pygments_lexer": "ipython3",
      "version": "3.9.12"
    }
  },
  "nbformat": 4,
  "nbformat_minor": 0
}